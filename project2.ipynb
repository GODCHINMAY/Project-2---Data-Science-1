{
 "cells": [
  {
   "cell_type": "markdown",
   "metadata": {},
   "source": [
    "# Project 2\n",
    "## Data Science 1 - Chinmay Agrawal"
   ]
  },
  {
   "cell_type": "markdown",
   "metadata": {},
   "source": [
    "### 1. Introduction\n",
    "I used my own dataset for this Project.\n",
    "\n",
    "The data comes from https://www.gaujasoft.com/tabletorch/docs/vehicle-dataset/ . \n",
    "\n",
    "The data describes various cars involving their selling price, model, year built, the number of owner, mileage, and other metrics.\n",
    "\n",
    "Column names: name,year,selling_price,km_driven,fuel,seller_type,transmission,owner,mileage,engine,max_power,torque,seats\n",
    "\n",
    "(When running report, run all cells past Regression again after pressing Run All initially)"
   ]
  },
  {
   "cell_type": "code",
   "execution_count": 1,
   "metadata": {},
   "outputs": [
    {
     "data": {
      "text/html": [
       "<div>\n",
       "<style scoped>\n",
       "    .dataframe tbody tr th:only-of-type {\n",
       "        vertical-align: middle;\n",
       "    }\n",
       "\n",
       "    .dataframe tbody tr th {\n",
       "        vertical-align: top;\n",
       "    }\n",
       "\n",
       "    .dataframe thead th {\n",
       "        text-align: right;\n",
       "    }\n",
       "</style>\n",
       "<table border=\"1\" class=\"dataframe\">\n",
       "  <thead>\n",
       "    <tr style=\"text-align: right;\">\n",
       "      <th></th>\n",
       "      <th>name</th>\n",
       "      <th>year</th>\n",
       "      <th>selling_price</th>\n",
       "      <th>km_driven</th>\n",
       "      <th>fuel</th>\n",
       "      <th>seller_type</th>\n",
       "      <th>transmission</th>\n",
       "      <th>owner</th>\n",
       "      <th>mileage</th>\n",
       "      <th>engine</th>\n",
       "      <th>max_power</th>\n",
       "      <th>torque</th>\n",
       "      <th>seats</th>\n",
       "    </tr>\n",
       "  </thead>\n",
       "  <tbody>\n",
       "    <tr>\n",
       "      <th>0</th>\n",
       "      <td>Maruti Swift Dzire VDI</td>\n",
       "      <td>2014</td>\n",
       "      <td>450000</td>\n",
       "      <td>145500</td>\n",
       "      <td>Diesel</td>\n",
       "      <td>Individual</td>\n",
       "      <td>Manual</td>\n",
       "      <td>First Owner</td>\n",
       "      <td>23.4 kmpl</td>\n",
       "      <td>1248 CC</td>\n",
       "      <td>74 bhp</td>\n",
       "      <td>190Nm@ 2000rpm</td>\n",
       "      <td>5.0</td>\n",
       "    </tr>\n",
       "    <tr>\n",
       "      <th>1</th>\n",
       "      <td>Skoda Rapid 1.5 TDI Ambition</td>\n",
       "      <td>2014</td>\n",
       "      <td>370000</td>\n",
       "      <td>120000</td>\n",
       "      <td>Diesel</td>\n",
       "      <td>Individual</td>\n",
       "      <td>Manual</td>\n",
       "      <td>Second Owner</td>\n",
       "      <td>21.14 kmpl</td>\n",
       "      <td>1498 CC</td>\n",
       "      <td>103.52 bhp</td>\n",
       "      <td>250Nm@ 1500-2500rpm</td>\n",
       "      <td>5.0</td>\n",
       "    </tr>\n",
       "    <tr>\n",
       "      <th>2</th>\n",
       "      <td>Honda City 2017-2020 EXi</td>\n",
       "      <td>2006</td>\n",
       "      <td>158000</td>\n",
       "      <td>140000</td>\n",
       "      <td>Petrol</td>\n",
       "      <td>Individual</td>\n",
       "      <td>Manual</td>\n",
       "      <td>Third Owner</td>\n",
       "      <td>17.7 kmpl</td>\n",
       "      <td>1497 CC</td>\n",
       "      <td>78 bhp</td>\n",
       "      <td>12.7@ 2,700(kgm@ rpm)</td>\n",
       "      <td>5.0</td>\n",
       "    </tr>\n",
       "    <tr>\n",
       "      <th>3</th>\n",
       "      <td>Hyundai i20 Sportz Diesel</td>\n",
       "      <td>2010</td>\n",
       "      <td>225000</td>\n",
       "      <td>127000</td>\n",
       "      <td>Diesel</td>\n",
       "      <td>Individual</td>\n",
       "      <td>Manual</td>\n",
       "      <td>First Owner</td>\n",
       "      <td>23.0 kmpl</td>\n",
       "      <td>1396 CC</td>\n",
       "      <td>90 bhp</td>\n",
       "      <td>22.4 kgm at 1750-2750rpm</td>\n",
       "      <td>5.0</td>\n",
       "    </tr>\n",
       "    <tr>\n",
       "      <th>4</th>\n",
       "      <td>Maruti Swift VXI BSIII</td>\n",
       "      <td>2007</td>\n",
       "      <td>130000</td>\n",
       "      <td>120000</td>\n",
       "      <td>Petrol</td>\n",
       "      <td>Individual</td>\n",
       "      <td>Manual</td>\n",
       "      <td>First Owner</td>\n",
       "      <td>16.1 kmpl</td>\n",
       "      <td>1298 CC</td>\n",
       "      <td>88.2 bhp</td>\n",
       "      <td>11.5@ 4,500(kgm@ rpm)</td>\n",
       "      <td>5.0</td>\n",
       "    </tr>\n",
       "  </tbody>\n",
       "</table>\n",
       "</div>"
      ],
      "text/plain": [
       "                           name  year  selling_price  km_driven    fuel  \\\n",
       "0        Maruti Swift Dzire VDI  2014         450000     145500  Diesel   \n",
       "1  Skoda Rapid 1.5 TDI Ambition  2014         370000     120000  Diesel   \n",
       "2      Honda City 2017-2020 EXi  2006         158000     140000  Petrol   \n",
       "3     Hyundai i20 Sportz Diesel  2010         225000     127000  Diesel   \n",
       "4        Maruti Swift VXI BSIII  2007         130000     120000  Petrol   \n",
       "\n",
       "  seller_type transmission         owner     mileage   engine   max_power  \\\n",
       "0  Individual       Manual   First Owner   23.4 kmpl  1248 CC      74 bhp   \n",
       "1  Individual       Manual  Second Owner  21.14 kmpl  1498 CC  103.52 bhp   \n",
       "2  Individual       Manual   Third Owner   17.7 kmpl  1497 CC      78 bhp   \n",
       "3  Individual       Manual   First Owner   23.0 kmpl  1396 CC      90 bhp   \n",
       "4  Individual       Manual   First Owner   16.1 kmpl  1298 CC    88.2 bhp   \n",
       "\n",
       "                     torque  seats  \n",
       "0            190Nm@ 2000rpm    5.0  \n",
       "1       250Nm@ 1500-2500rpm    5.0  \n",
       "2     12.7@ 2,700(kgm@ rpm)    5.0  \n",
       "3  22.4 kgm at 1750-2750rpm    5.0  \n",
       "4     11.5@ 4,500(kgm@ rpm)    5.0  "
      ]
     },
     "execution_count": 1,
     "metadata": {},
     "output_type": "execute_result"
    }
   ],
   "source": [
    "#prepare tools for analysis\n",
    "import pandas as pd\n",
    "import numpy as np\n",
    "import seaborn as sns\n",
    "import matplotlib.pyplot as plt\n",
    "\n",
    "cars = pd.read_csv(\"Car details v3.csv\").dropna().drop_duplicates()\n",
    "cars.head()"
   ]
  },
  {
   "cell_type": "markdown",
   "metadata": {},
   "source": [
    "### Pre-Processing\n",
    "1. Removing columns irrelevant to us.\n",
    "2. Removing any rows with missing values.\n",
    "3. Outlier removal"
   ]
  },
  {
   "cell_type": "code",
   "execution_count": 2,
   "metadata": {},
   "outputs": [
    {
     "data": {
      "text/html": [
       "<div>\n",
       "<style scoped>\n",
       "    .dataframe tbody tr th:only-of-type {\n",
       "        vertical-align: middle;\n",
       "    }\n",
       "\n",
       "    .dataframe tbody tr th {\n",
       "        vertical-align: top;\n",
       "    }\n",
       "\n",
       "    .dataframe thead th {\n",
       "        text-align: right;\n",
       "    }\n",
       "</style>\n",
       "<table border=\"1\" class=\"dataframe\">\n",
       "  <thead>\n",
       "    <tr style=\"text-align: right;\">\n",
       "      <th></th>\n",
       "      <th>name</th>\n",
       "      <th>year</th>\n",
       "      <th>selling_price</th>\n",
       "      <th>km_driven</th>\n",
       "      <th>fuel</th>\n",
       "      <th>seller_type</th>\n",
       "      <th>transmission</th>\n",
       "      <th>owner</th>\n",
       "      <th>mileage</th>\n",
       "      <th>engine</th>\n",
       "      <th>max_power</th>\n",
       "      <th>torque</th>\n",
       "      <th>seats</th>\n",
       "    </tr>\n",
       "  </thead>\n",
       "  <tbody>\n",
       "    <tr>\n",
       "      <th>0</th>\n",
       "      <td>Maruti Swift Dzire VDI</td>\n",
       "      <td>2014</td>\n",
       "      <td>450000</td>\n",
       "      <td>145500</td>\n",
       "      <td>Diesel</td>\n",
       "      <td>Individual</td>\n",
       "      <td>Manual</td>\n",
       "      <td>First Owner</td>\n",
       "      <td>23.40</td>\n",
       "      <td>1248.0</td>\n",
       "      <td>74.00</td>\n",
       "      <td>190Nm@ 2000rpm</td>\n",
       "      <td>5.0</td>\n",
       "    </tr>\n",
       "    <tr>\n",
       "      <th>1</th>\n",
       "      <td>Skoda Rapid 1.5 TDI Ambition</td>\n",
       "      <td>2014</td>\n",
       "      <td>370000</td>\n",
       "      <td>120000</td>\n",
       "      <td>Diesel</td>\n",
       "      <td>Individual</td>\n",
       "      <td>Manual</td>\n",
       "      <td>Second Owner</td>\n",
       "      <td>21.14</td>\n",
       "      <td>1498.0</td>\n",
       "      <td>103.52</td>\n",
       "      <td>250Nm@ 1500-2500rpm</td>\n",
       "      <td>5.0</td>\n",
       "    </tr>\n",
       "    <tr>\n",
       "      <th>2</th>\n",
       "      <td>Honda City 2017-2020 EXi</td>\n",
       "      <td>2006</td>\n",
       "      <td>158000</td>\n",
       "      <td>140000</td>\n",
       "      <td>Petrol</td>\n",
       "      <td>Individual</td>\n",
       "      <td>Manual</td>\n",
       "      <td>Third Owner</td>\n",
       "      <td>17.70</td>\n",
       "      <td>1497.0</td>\n",
       "      <td>78.00</td>\n",
       "      <td>12.7@ 2,700(kgm@ rpm)</td>\n",
       "      <td>5.0</td>\n",
       "    </tr>\n",
       "    <tr>\n",
       "      <th>3</th>\n",
       "      <td>Hyundai i20 Sportz Diesel</td>\n",
       "      <td>2010</td>\n",
       "      <td>225000</td>\n",
       "      <td>127000</td>\n",
       "      <td>Diesel</td>\n",
       "      <td>Individual</td>\n",
       "      <td>Manual</td>\n",
       "      <td>First Owner</td>\n",
       "      <td>23.00</td>\n",
       "      <td>1396.0</td>\n",
       "      <td>90.00</td>\n",
       "      <td>22.4 kgm at 1750-2750rpm</td>\n",
       "      <td>5.0</td>\n",
       "    </tr>\n",
       "    <tr>\n",
       "      <th>4</th>\n",
       "      <td>Maruti Swift VXI BSIII</td>\n",
       "      <td>2007</td>\n",
       "      <td>130000</td>\n",
       "      <td>120000</td>\n",
       "      <td>Petrol</td>\n",
       "      <td>Individual</td>\n",
       "      <td>Manual</td>\n",
       "      <td>First Owner</td>\n",
       "      <td>16.10</td>\n",
       "      <td>1298.0</td>\n",
       "      <td>88.20</td>\n",
       "      <td>11.5@ 4,500(kgm@ rpm)</td>\n",
       "      <td>5.0</td>\n",
       "    </tr>\n",
       "  </tbody>\n",
       "</table>\n",
       "</div>"
      ],
      "text/plain": [
       "                           name  year  selling_price  km_driven    fuel  \\\n",
       "0        Maruti Swift Dzire VDI  2014         450000     145500  Diesel   \n",
       "1  Skoda Rapid 1.5 TDI Ambition  2014         370000     120000  Diesel   \n",
       "2      Honda City 2017-2020 EXi  2006         158000     140000  Petrol   \n",
       "3     Hyundai i20 Sportz Diesel  2010         225000     127000  Diesel   \n",
       "4        Maruti Swift VXI BSIII  2007         130000     120000  Petrol   \n",
       "\n",
       "  seller_type transmission         owner  mileage  engine  max_power  \\\n",
       "0  Individual       Manual   First Owner    23.40  1248.0      74.00   \n",
       "1  Individual       Manual  Second Owner    21.14  1498.0     103.52   \n",
       "2  Individual       Manual   Third Owner    17.70  1497.0      78.00   \n",
       "3  Individual       Manual   First Owner    23.00  1396.0      90.00   \n",
       "4  Individual       Manual   First Owner    16.10  1298.0      88.20   \n",
       "\n",
       "                     torque  seats  \n",
       "0            190Nm@ 2000rpm    5.0  \n",
       "1       250Nm@ 1500-2500rpm    5.0  \n",
       "2     12.7@ 2,700(kgm@ rpm)    5.0  \n",
       "3  22.4 kgm at 1750-2750rpm    5.0  \n",
       "4     11.5@ 4,500(kgm@ rpm)    5.0  "
      ]
     },
     "execution_count": 2,
     "metadata": {},
     "output_type": "execute_result"
    }
   ],
   "source": [
    "# Let us create a seperate dataframe for the numerical columns and apply outlier detection\n",
    "cars['mileage'] = cars['mileage'].str.extract('(\\d+\\.\\d+)').astype(float)\n",
    "cars['engine'] = cars['engine'].str.replace(' CC', '').astype(float)\n",
    "cars['max_power'] = cars['max_power'].str.extract('(\\d+(\\.\\d+)?)')[0].astype(float)\n",
    "\n",
    "\n",
    "numerical=cars[['year','selling_price','km_driven','mileage', 'engine', 'max_power']]\n",
    "\n",
    "\n",
    "#function for outlier detection\n",
    "def is_outlier(x):\n",
    "    Q25, Q75 = x.quantile([.25,.75])\n",
    "    I = Q75 - Q25\n",
    "    return (x < Q25 - 1.5*I) |  (x > Q75 + 1.5*I)\n",
    "\n",
    "outliers = numerical.apply(is_outlier)\n",
    "\n",
    "# Now to remove the outliers\n",
    "cars = cars[~outliers.any(axis=1)]\n",
    "\n",
    "#Removing irrelevant columns\n",
    "\n",
    "\n",
    "cars.head()"
   ]
  },
  {
   "cell_type": "markdown",
   "metadata": {},
   "source": [
    "## 2. Classification\n",
    "\n",
    "Question: Can we predict what number owner (first,second,third, etc.) a car is based on the Selling Price, year of manufactoring, mileage, kilometers driven, and number of seats?\n",
    "\n",
    "Note: We will be using F1 Scores as a measure of performance which is the harmonic mean of the precision and the recall. This is because Balancing errors is important to us since false positives and false negatives carry significant implications. In our case they can incorrectly predicting a car as being a newer hand or  Incorrectly predicting a car as being an older hand resulting in undervaluation which are both relevant."
   ]
  },
  {
   "cell_type": "code",
   "execution_count": 3,
   "metadata": {},
   "outputs": [],
   "source": [
    "#Splitting data into training and testing sets\n",
    "from sklearn.model_selection import train_test_split\n",
    "X = cars[['selling_price','year','mileage','km_driven','seats']]\n",
    "y = cars['owner']\n",
    "X_train, X_test, y_train, y_test = train_test_split(X, y, test_size=0.2, shuffle=True, random_state=42)"
   ]
  },
  {
   "cell_type": "markdown",
   "metadata": {},
   "source": [
    "We will perform a grid search with training data on both kNN and decision trees across various hyperparameters."
   ]
  },
  {
   "cell_type": "code",
   "execution_count": 4,
   "metadata": {},
   "outputs": [
    {
     "name": "stdout",
     "output_type": "stream",
     "text": [
      "Best parameters:\n",
      "{'kneighborsclassifier__metric': 'euclidean', 'kneighborsclassifier__n_neighbors': 19, 'kneighborsclassifier__weights': 'uniform'}\n",
      "\n",
      "Best score:\n",
      "0.632882105299208\n"
     ]
    }
   ],
   "source": [
    "from sklearn.pipeline import make_pipeline\n",
    "from sklearn.neighbors import KNeighborsClassifier\n",
    "from sklearn.preprocessing import StandardScaler   # converts to z-scores\n",
    "from sklearn.model_selection import GridSearchCV\n",
    "from sklearn.model_selection import StratifiedKFold\n",
    "\n",
    "#KNN Classifier with various hyperparameters\n",
    "grid = { \"kneighborsclassifier__metric\":[\"euclidean\", \"manhattan\"], \n",
    "         \"kneighborsclassifier__n_neighbors\":range(1, 20), \n",
    "         \"kneighborsclassifier__weights\":[\"uniform\", \"distance\"] }\n",
    "\n",
    "learner = make_pipeline(StandardScaler(), KNeighborsClassifier())\n",
    "\n",
    "kf = StratifiedKFold(n_splits=8, shuffle=True, random_state=302)\n",
    "\n",
    "grid_knn = GridSearchCV(\n",
    "    learner, grid, \n",
    "    scoring=\"f1_weighted\", \n",
    "    cv=kf,\n",
    "    n_jobs=-1\n",
    "    )\n",
    "grid_knn.fit(X_train, y_train)\n",
    "\n",
    "print(\"Best parameters:\")\n",
    "print(grid_knn.best_params_)\n",
    "print()\n",
    "print(\"Best score:\")\n",
    "print(grid_knn.best_score_)"
   ]
  },
  {
   "cell_type": "markdown",
   "metadata": {},
   "source": [
    "We used a KNN Neighbour Classifier and k=4 yields the best score using the the Manhatten Metric with Distance weight."
   ]
  },
  {
   "cell_type": "code",
   "execution_count": 5,
   "metadata": {},
   "outputs": [
    {
     "name": "stdout",
     "output_type": "stream",
     "text": [
      "Best parameters:\n",
      "{'criterion': 'gini', 'max_depth': 2}\n",
      "\n",
      "Best score is 0.6470\n"
     ]
    }
   ],
   "source": [
    "#Performing a Grid Search with KNN and Descision Trees:\n",
    "from sklearn.model_selection import GridSearchCV\n",
    "from sklearn.tree import DecisionTreeClassifier\n",
    "from sklearn.model_selection import StratifiedKFold\n",
    "\n",
    "\n",
    "#Decision Tree Classifier\n",
    "kf = StratifiedKFold(n_splits=8, shuffle=True, random_state=302)\n",
    "\n",
    "grid = { \"criterion\":[\"gini\", \"entropy\"], \n",
    "         \"max_depth\":range(2, 15), \n",
    "           }\n",
    "learner = DecisionTreeClassifier(random_state=19716)\n",
    "\n",
    "grid_search =  GridSearchCV(\n",
    "    learner, grid, \n",
    "    scoring=\"f1_weighted\", \n",
    "    cv=kf,\n",
    "    n_jobs=-1\n",
    "    )\n",
    "\n",
    "grid_search.fit(X_train, y_train) \n",
    "\n",
    "tree_best_params = grid_search.best_params_\n",
    "tree_best_score = grid_search.best_score_\n",
    "\n",
    "print(\"Best parameters:\")\n",
    "print(tree_best_params)\n",
    "print()\n",
    "print(f\"Best score is {tree_best_score:.4f}\")"
   ]
  },
  {
   "cell_type": "markdown",
   "metadata": {},
   "source": [
    "### Initial Analysis\n",
    "\n",
    "We used a Descision Tree Classifier with hyperparameters such as Criterion and Maximum depth of the Tree. Based on the various Trees, we see the best score is yielded when Gini is used for Criterion and a Maximum Depth of 2. We see the F1 Weighted Score using KNN with k=19 to be 0.633 whearas the score from the best tree is 0.647 yielding a better result.\n",
    "\n",
    "Now, lets see the best features using our Best Tree."
   ]
  },
  {
   "cell_type": "code",
   "execution_count": 6,
   "metadata": {},
   "outputs": [
    {
     "name": "stdout",
     "output_type": "stream",
     "text": [
      "               importance\n",
      "selling_price    0.000000\n",
      "mileage          0.000000\n",
      "seats            0.000000\n",
      "km_driven        0.139152\n",
      "year             0.860848\n"
     ]
    }
   ],
   "source": [
    "from sklearn.metrics import accuracy_score\n",
    "\n",
    "#We define the classifier with the best parameters as found above\n",
    "dt_classifier = DecisionTreeClassifier(criterion='gini', max_depth=2)\n",
    "dt_classifier.fit(X_train, y_train)\n",
    "predictions = dt_classifier.predict(X_test)\n",
    "accuracy = accuracy_score(y_test, predictions)\n",
    "\n",
    "feature_columns = ['selling_price','year','mileage','km_driven','seats']\n",
    "feature_importances = pd.DataFrame(dt_classifier.feature_importances_,\n",
    "                                   index = feature_columns,\n",
    "                                   columns=['importance']).sort_values('importance', ascending=True)\n",
    "\n",
    "print(feature_importances)\n",
    "\n"
   ]
  },
  {
   "cell_type": "markdown",
   "metadata": {},
   "source": [
    "From this, we see that the year of the make of the car along with the Kilometers driven are the first and second most important features when determining what 'hand' of ownership a car is.\n",
    "\n",
    "### Let us now use an Esemble Method, particularly a Random Forest Classifier to make a validation curve as a function of the max ensemble sample size."
   ]
  },
  {
   "cell_type": "code",
   "execution_count": 7,
   "metadata": {},
   "outputs": [
    {
     "name": "stdout",
     "output_type": "stream",
     "text": [
      "F₁ for max_samples = 0.1 is 0.6320\n",
      "F₁ for max_samples = 0.2 is 0.6330\n",
      "F₁ for max_samples = 0.3 is 0.6305\n",
      "F₁ for max_samples = 0.4 is 0.6274\n",
      "F₁ for max_samples = 0.5 is 0.6269\n",
      "F₁ for max_samples = 0.6 is 0.6246\n",
      "F₁ for max_samples = 0.7 is 0.6181\n",
      "F₁ for max_samples = 0.8 is 0.6324\n",
      "F₁ for max_samples = 0.9 is 0.6198\n",
      "F₁ for max_samples = 1.0 is 0.6172\n"
     ]
    },
    {
     "data": {
      "image/png": "[encoded data removed]",
      "text/plain": [
       "<Figure size 1000x600 with 1 Axes>"
      ]
     },
     "metadata": {},
     "output_type": "display_data"
    }
   ],
   "source": [
    "from sklearn.ensemble import RandomForestClassifier\n",
    "from sklearn.metrics import f1_score\n",
    "import matplotlib.pyplot as plt\n",
    "\n",
    "max_samples_range = np.linspace(0.1, 1.0, 10)\n",
    "\n",
    "# Store F1 scores for each value of max_samples\n",
    "f1_scores = []\n",
    "\n",
    "for max_samples in max_samples_range:\n",
    "    rf = RandomForestClassifier(\n",
    "        max_depth=24, \n",
    "        max_samples=max_samples,\n",
    "        n_estimators=100, \n",
    "        n_jobs=-1\n",
    "    )\n",
    "    rf.fit(X_train, y_train)\n",
    "    F1 = f1_score(y_test, rf.predict(X_test), average='weighted')\n",
    "    f1_scores.append(F1)\n",
    "    print(f\"F₁ for max_samples = {max_samples:.1f} is {F1:.4f}\")\n",
    "\n",
    "# Plotting the validation curve\n",
    "plt.figure(figsize=(10, 6))\n",
    "plt.plot(max_samples_range, f1_scores, marker='o')\n",
    "plt.title('Validation Curve with RandomForest')\n",
    "plt.xlabel('Max Samples')\n",
    "plt.ylabel('Weighted F1 Score')\n",
    "plt.grid(True)\n",
    "plt.show()"
   ]
  },
  {
   "cell_type": "code",
   "execution_count": 8,
   "metadata": {},
   "outputs": [
    {
     "name": "stdout",
     "output_type": "stream",
     "text": [
      "The maximum F₁ score is 0.6330 at max_samples = 0.2\n"
     ]
    }
   ],
   "source": [
    "max_f1 = max(f1_scores)\n",
    "max_f1_index = f1_scores.index(max_f1)\n",
    "max_f1_sample = max_samples_range[max_f1_index]\n",
    "\n",
    "print(f\"The maximum F₁ score is {max_f1:.4f} at max_samples = {max_f1_sample:.1f}\")"
   ]
  },
  {
   "cell_type": "markdown",
   "metadata": {},
   "source": [
    "### Comparing the Best classifiers.\n",
    "Best KNN Classifier with Best parameters:{'kneighborsclassifier__metric': 'euclidean', 'kneighborsclassifier__n_neighbors': 19, 'kneighborsclassifier__weights': 'uniform'} and the Best score: 0.632882105299208\n",
    "\n",
    "Best Descision Tree Classifier with Best parameters: {'criterion': 'gini', 'max_depth': 2} and Best score is 0.6470\n",
    "\n",
    "Best Ensemble Method (Random Forest Classifier) with best F1 score  as 0.6299 when Max Samples = 0.9\n",
    "\n",
    "Therefore, we see from the above three, that the Descision Tree Classifier is the Best Overall. Let us now plot an ROC curve for it."
   ]
  },
  {
   "cell_type": "code",
   "execution_count": 9,
   "metadata": {},
   "outputs": [
    {
     "name": "stderr",
     "output_type": "stream",
     "text": [
      "c:\\Users\\sande\\anaconda3\\Lib\\site-packages\\sklearn\\metrics\\_ranking.py:1132: UndefinedMetricWarning: No positive samples in y_true, true positive value should be meaningless\n",
      "  warnings.warn(\n"
     ]
    },
    {
     "data": {
      "image/png": "[encoded data removed]",
      "text/plain": [
       "<Figure size 1000x800 with 1 Axes>"
      ]
     },
     "metadata": {},
     "output_type": "display_data"
    }
   ],
   "source": [
    "from sklearn.metrics import roc_curve, auc\n",
    "\n",
    "probability= dt_classifier.predict_proba(X_test)[:,1]\n",
    "fpr, tpr, thresholds = roc_curve(y_test, probability, pos_label='satisfied')\n",
    "roc_auc = auc(fpr, tpr)\n",
    "\n",
    "plt.figure(figsize=(10, 8))\n",
    "plt.plot(fpr, tpr, color='darkorange', lw=2, label=f'ROC curve (area = {roc_auc:.2f})')\n",
    "plt.plot([0, 1], [0, 1], color='navy', lw=2, linestyle='--')\n",
    "plt.xlim([0.0, 1.0])\n",
    "plt.ylim([0.0, 1.05])\n",
    "plt.xlabel('False Positive Rate')\n",
    "plt.ylabel('True Positive Rate')\n",
    "plt.title('Receiver Operatin g Characteristic')\n",
    "plt.legend(loc=\"lower right\")\n",
    "plt.show()"
   ]
  },
  {
   "cell_type": "markdown",
   "metadata": {},
   "source": [
    "## 2. Regression\n",
    "Question: Can Selling Price of Car be determined based off of Mileage, Engine, Seats, Kilometers Driven and Max Power.\n",
    "\n",
    "Note: We will be using Coefficient of Determination as a measure of performance.\n",
    "\n",
    "### a) Ridge Regression"
   ]
  },
  {
   "cell_type": "code",
   "execution_count": 10,
   "metadata": {},
   "outputs": [
    {
     "name": "stdout",
     "output_type": "stream",
     "text": [
      "alpha = 0.25\n",
      "2-norm of coefficient vector: 60050.0\n",
      "ridge regression CoD score: 0.6617\n",
      "\n",
      "alpha = 0.50\n",
      "2-norm of coefficient vector: 60032.5\n",
      "ridge regression CoD score: 0.6617\n",
      "\n",
      "alpha = 1.00\n",
      "2-norm of coefficient vector: 59997.6\n",
      "ridge regression CoD score: 0.6617\n",
      "\n",
      "alpha = 2.00\n",
      "2-norm of coefficient vector: 59928.2\n",
      "ridge regression CoD score: 0.6617\n",
      "\n"
     ]
    },
    {
     "data": {
      "image/png": "[encoded data removed]",
      "text/plain": [
       "<Figure size 640x480 with 1 Axes>"
      ]
     },
     "metadata": {},
     "output_type": "display_data"
    },
    {
     "name": "stdout",
     "output_type": "stream",
     "text": [
      "Most positive influence: 1\n",
      "Most negative influence: 3\n"
     ]
    }
   ],
   "source": [
    "from sklearn.linear_model import Ridge\n",
    "from sklearn.model_selection import validation_curve\n",
    "from numpy.linalg import norm\n",
    "\n",
    "\n",
    "# Convert the owner column to integers\n",
    "owner_mapping = {\n",
    "    'First Owner': 1,\n",
    "    'Second Owner': 2,\n",
    "    'Third Owner': 3\n",
    "}\n",
    "cars['owner'] = cars['owner'].map(owner_mapping).fillna(4).astype(int)\n",
    "cars['fuel'] = np.where(cars['fuel'] == 'Petrol', 1, 0)\n",
    "\n",
    "X = cars[['owner','year','mileage','km_driven','engine','seats','fuel']]\n",
    "y = cars['selling_price']\n",
    "\n",
    "\n",
    "# Assuming X and y are your data and labels respectively\n",
    "X_train, X_test, y_train, y_test = train_test_split(X, y, test_size=0.2, random_state=42)\n",
    "\n",
    "for alpha in [0.25, 0.5, 1, 2]:\n",
    "    rr = Ridge(alpha=alpha)    # more regularization\n",
    "    rr.fit(X_train, y_train)\n",
    "    print(f\"alpha = {alpha:.2f}\")\n",
    "    print(f\"2-norm of coefficient vector: {norm(rr.coef_):.1f}\")\n",
    "    print(f\"ridge regression CoD score: {rr.score(X_test, y_test):.4f}\")\n",
    "    print()\n",
    "\n",
    "\n",
    "# Create a Ridge regression model within a pipeline that first standardizes the data\n",
    "model = make_pipeline(StandardScaler(), Ridge())\n",
    "\n",
    "# Define range of alpha values for Ridge regularization parameter\n",
    "param_range = np.logspace(-5, 2, 10)\n",
    "\n",
    "# Compute validation curve\n",
    "train_scores, test_scores = validation_curve(\n",
    "    model, X_train, y_train, param_name=\"ridge__alpha\", param_range=param_range,\n",
    "    cv=5, scoring=\"neg_mean_squared_error\", n_jobs=-1\n",
    ")\n",
    "\n",
    "# Calculate mean and standard deviation for train and test set scores\n",
    "train_mean = np.mean(train_scores, axis=1)\n",
    "train_std = np.std(train_scores, axis=1)\n",
    "test_mean = np.mean(test_scores, axis=1)\n",
    "test_std = np.std(test_scores, axis=1)\n",
    "\n",
    "# Plotting the validation curve\n",
    "plt.semilogx(param_range, train_mean, label=\"Training score\", color=\"darkorange\", lw=2)\n",
    "plt.fill_between(param_range, train_mean - train_std, train_mean + train_std, color=\"darkorange\", alpha=0.2)\n",
    "plt.semilogx(param_range, test_mean, label=\"Cross-validation score\", color=\"navy\", lw=2)\n",
    "plt.fill_between(param_range, test_mean - test_std, test_mean + test_std, color=\"navy\", alpha=0.2)\n",
    "plt.title(\"Validation Curve with Ridge Regression\")\n",
    "plt.xlabel(\"Regularization parameter: Alpha\")\n",
    "plt.ylabel(\"Negative Mean Squared Error\")\n",
    "plt.legend(loc=\"best\")\n",
    "plt.show()\n",
    "\n",
    "\n",
    "chosen_alpha = 0.5  # value chosen based off best 2-norm of coefficient vector\n",
    "model.set_params(ridge__alpha=chosen_alpha)\n",
    "model.fit(X_train, y_train)\n",
    "\n",
    "# Retrieve the coefficients to see influence\n",
    "coefficients = model.named_steps['ridge'].coef_\n",
    "\n",
    "# Show which columns have the greatest positive and negative influence\n",
    "print(\"Most positive influence:\", np.argmax(coefficients))\n",
    "print(\"Most negative influence:\", np.argmin(coefficients))"
   ]
  },
  {
   "cell_type": "markdown",
   "metadata": {},
   "source": [
    "We see that the 'Hand' of the Ownership of the car has the most significant impact whearas the Mileage has the least significant impact on the Selling Price of a Car.\n",
    "\n",
    "### LASSO Regression"
   ]
  },
  {
   "cell_type": "code",
   "execution_count": 11,
   "metadata": {},
   "outputs": [
    {
     "data": {
      "text/html": [
       "<div>\n",
       "<style scoped>\n",
       "    .dataframe tbody tr th:only-of-type {\n",
       "        vertical-align: middle;\n",
       "    }\n",
       "\n",
       "    .dataframe tbody tr th {\n",
       "        vertical-align: top;\n",
       "    }\n",
       "\n",
       "    .dataframe thead th {\n",
       "        text-align: right;\n",
       "    }\n",
       "</style>\n",
       "<table border=\"1\" class=\"dataframe\">\n",
       "  <thead>\n",
       "    <tr style=\"text-align: right;\">\n",
       "      <th></th>\n",
       "      <th>feature</th>\n",
       "      <th>ridge</th>\n",
       "      <th>LASSO</th>\n",
       "    </tr>\n",
       "  </thead>\n",
       "  <tbody>\n",
       "    <tr>\n",
       "      <th>0</th>\n",
       "      <td>owner</td>\n",
       "      <td>-15934.297811</td>\n",
       "      <td>-15951.690823</td>\n",
       "    </tr>\n",
       "    <tr>\n",
       "      <th>1</th>\n",
       "      <td>year</td>\n",
       "      <td>37942.974938</td>\n",
       "      <td>37946.450358</td>\n",
       "    </tr>\n",
       "    <tr>\n",
       "      <th>2</th>\n",
       "      <td>mileage</td>\n",
       "      <td>2656.805710</td>\n",
       "      <td>2638.420238</td>\n",
       "    </tr>\n",
       "    <tr>\n",
       "      <th>3</th>\n",
       "      <td>km_driven</td>\n",
       "      <td>-0.839163</td>\n",
       "      <td>-0.839631</td>\n",
       "    </tr>\n",
       "    <tr>\n",
       "      <th>4</th>\n",
       "      <td>engine</td>\n",
       "      <td>384.265161</td>\n",
       "      <td>384.034592</td>\n",
       "    </tr>\n",
       "    <tr>\n",
       "      <th>5</th>\n",
       "      <td>seats</td>\n",
       "      <td>14428.879485</td>\n",
       "      <td>14423.412927</td>\n",
       "    </tr>\n",
       "    <tr>\n",
       "      <th>6</th>\n",
       "      <td>fuel</td>\n",
       "      <td>-41017.319117</td>\n",
       "      <td>-41213.158828</td>\n",
       "    </tr>\n",
       "  </tbody>\n",
       "</table>\n",
       "</div>"
      ],
      "text/plain": [
       "     feature         ridge         LASSO\n",
       "0      owner -15934.297811 -15951.690823\n",
       "1       year  37942.974938  37946.450358\n",
       "2    mileage   2656.805710   2638.420238\n",
       "3  km_driven     -0.839163     -0.839631\n",
       "4     engine    384.265161    384.034592\n",
       "5      seats  14428.879485  14423.412927\n",
       "6       fuel -41017.319117 -41213.158828"
      ]
     },
     "execution_count": 11,
     "metadata": {},
     "output_type": "execute_result"
    }
   ],
   "source": [
    "from sklearn.linear_model import Lasso\n",
    "\n",
    "alpha = np.linspace(0, 0.1, 60)[1:]  # exclude alpha=0\n",
    "\n",
    "lass = Lasso(alpha=0.05)\n",
    "lass.fit(X_train, y_train)\n",
    "pd.DataFrame( {\n",
    "    \"feature\": X.columns,\n",
    "    \"ridge\": rr.coef_,\n",
    "    \"LASSO\": lass.coef_\n",
    "    } )\n",
    "\n"
   ]
  },
  {
   "cell_type": "code",
   "execution_count": 12,
   "metadata": {},
   "outputs": [
    {
     "name": "stdout",
     "output_type": "stream",
     "text": [
      "[]\n"
     ]
    }
   ],
   "source": [
    "\n",
    "# Get the locations (indices) of the very small weights:\n",
    "zeroed = np.nonzero( np.abs(lass.coef_) < 1e-5 )\n",
    "# Names of the corresponding columns:\n",
    "dropped = X.columns[zeroed].values\n",
    "print(dropped)"
   ]
  },
  {
   "cell_type": "markdown",
   "metadata": {},
   "source": [
    "Based on this, We see that the owner and fuel columns should be dropped."
   ]
  },
  {
   "cell_type": "code",
   "execution_count": 13,
   "metadata": {},
   "outputs": [
    {
     "name": "stdout",
     "output_type": "stream",
     "text": [
      "CofD score with reduced features: 0.6558\n"
     ]
    }
   ],
   "source": [
    "from sklearn.linear_model import LinearRegression\n",
    "\n",
    "dropped=['owner','fuel']\n",
    "X_train_reduced = X_train.drop(dropped, axis=1)\n",
    "X_test_reduced = X_test.drop(dropped, axis=1)\n",
    "\n",
    "lass.fit(X_train_reduced,y_train)\n",
    "print(f\"CofD score with reduced features: {lass.score(X_test_reduced, y_test):.4f}\")\n"
   ]
  },
  {
   "cell_type": "markdown",
   "metadata": {},
   "source": [
    "### Grid Search for a nonlinear regressor (decision tree)"
   ]
  },
  {
   "cell_type": "code",
   "execution_count": 14,
   "metadata": {},
   "outputs": [
    {
     "name": "stdout",
     "output_type": "stream",
     "text": [
      "best kNN CoD: 0.7911\n"
     ]
    }
   ],
   "source": [
    "from sklearn.neighbors import KNeighborsRegressor\n",
    "from sklearn.model_selection import KFold, StratifiedKFold\n",
    "\n",
    "kf = KFold(n_splits=6, shuffle=True, random_state=3383)\n",
    "grid = {\n",
    "    \"kneighborsregressor__n_neighbors\": range(2, 25),\n",
    "    \"kneighborsregressor__weights\": [\"uniform\", \"distance\"] \n",
    "    }\n",
    "knn = make_pipeline( StandardScaler(), KNeighborsRegressor() )\n",
    "optim = GridSearchCV(\n",
    "    knn, grid, \n",
    "    cv=kf, \n",
    "    n_jobs=-1\n",
    "    )\n",
    "\n",
    "optim.fit(X_train, y_train)\n",
    "\n",
    "print(f\"best kNN CoD: {optim.score(X_test, y_test):.4f}\")"
   ]
  },
  {
   "cell_type": "markdown",
   "metadata": {},
   "source": [
    "### A quick Comparision\n",
    "\n",
    "Looking at all of the Coefficient of Determination scores will help us determine the best regressor.\n",
    "Ridge Regression yielded a CofD of 0.4636\n",
    "LASSO Regression yielded a CofD of 0.4636 as well.\n",
    "Grid Search using Descision Tree yielded a CofD of 0.7989 making it the best Classifier."
   ]
  },
  {
   "cell_type": "markdown",
   "metadata": {},
   "source": [
    "# Discussion\n",
    "\n",
    "In Both cases, we see that a Descision Tree yielded the best result using Classification and Regression methods.\n",
    "\n",
    "We see the that the most relevant features within the dataset were Selling_price and Ownership were the most significant whearas Fuel Type was the least relevant.\n",
    "\n",
    "Future Potential Features include:\n",
    "1. Accident History: A car that has been in major accidents is likely to be valued less than a similar car with a clean history.\n",
    "2. Vehicle Condition: A car that is in excellent condition with minimal wear and tear is usually more attractive to buyers and can command a higher price. This can be a rating scale from 1-10 with 10 as Brand as New and 1 as Borderline Junk.\n",
    "\n",
    "\n",
    "-------------------------------------------------------------------o-------------------------------------------------------------------"
   ]
  }
 ],
 "metadata": {
  "kernelspec": {
   "display_name": "base",
   "language": "python",
   "name": "python3"
  },
  "language_info": {
   "codemirror_mode": {
    "name": "ipython",
    "version": 3
   },
   "file_extension": ".py",
   "mimetype": "text/x-python",
   "name": "python",
   "nbconvert_exporter": "python",
   "pygments_lexer": "ipython3",
   "version": "3.11.5"
  }
 },
 "nbformat": 4,
 "nbformat_minor": 2
}
